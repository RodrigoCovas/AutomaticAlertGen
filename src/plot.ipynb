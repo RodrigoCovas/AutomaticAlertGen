{
 "cells": [
  {
   "cell_type": "code",
   "execution_count": null,
   "metadata": {},
   "outputs": [
    {
     "ename": "",
     "evalue": "",
     "output_type": "error",
     "traceback": [
      "\u001b[1;31mRunning cells with 'env320 (Python 3.10.16)' requires the ipykernel package.\n",
      "\u001b[1;31mRun the following command to install 'ipykernel' into the Python environment. \n",
      "\u001b[1;31mCommand: '/home/asfaloth/envs/env320/bin/python -m pip install ipykernel -U --force-reinstall'"
     ]
    }
   ],
   "source": [
    "import matplotlib.pyplot as plt\n",
    "from datasets import load_from_disk\n",
    "\n",
    "# Load the dataset from disk\n",
    "dataset = load_from_disk(\"../data/conll2003_dataset\")\n",
    "\n",
    "# Plot score distribution for each split\n",
    "def plot_score_distribution(scores, title):\n",
    "    plt.figure(figsize=(8, 6))\n",
    "    plt.hist(scores, bins=20, color='blue', alpha=0.7)\n",
    "    plt.title(title)\n",
    "    plt.xlabel('Score')\n",
    "    plt.ylabel('Frequency')\n",
    "    plt.grid(True)\n",
    "    plt.show()\n",
    "\n",
    "# Plot distributions for train, validation, and test datasets\n",
    "plot_score_distribution(dataset[\"train\"][\"scores\"], \"Distribution of Sentiment Scores in Train Dataset\")\n",
    "plot_score_distribution(dataset[\"validation\"][\"scores\"], \"Distribution of Sentiment Scores in Validation Dataset\")\n",
    "plot_score_distribution(dataset[\"test\"][\"scores\"], \"Distribution of Sentiment Scores in Test Dataset\")\n",
    "\n",
    "# Count neutral sentences in each split\n",
    "neutral_count_train = sum(1 for label in dataset[\"train\"][\"sentiments\"] if label == \"NEUTRAL\")\n",
    "neutral_count_validation = sum(1 for label in dataset[\"validation\"][\"sentiments\"] if label == \"NEUTRAL\")\n",
    "neutral_count_test = sum(1 for label in dataset[\"test\"][\"sentiments\"] if label == \"NEUTRAL\")\n",
    "\n",
    "print(f\"Number of neutral sentences in Train Dataset: {neutral_count_train}\")\n",
    "print(f\"Number of neutral sentences in Validation Dataset: {neutral_count_validation}\")\n",
    "print(f\"Number of neutral sentences in Test Dataset: {neutral_count_test}\")\n"
   ]
  },
  {
   "cell_type": "code",
   "execution_count": 6,
   "metadata": {},
   "outputs": [
    {
     "name": "stdout",
     "output_type": "stream",
     "text": [
      "Number of low-score sentences: 3136\n",
      "Examples of low-score sentences: [['EU', 'rejects', 'German', 'call', 'to', 'boycott', 'British', 'lamb', '.'], ['The', 'European', 'Commission', 'said', 'on', 'Thursday', 'it', 'disagreed', 'with', 'German', 'advice', 'to', 'consumers', 'to', 'shun', 'British', 'lamb', 'until', 'scientists', 'determine', 'whether', 'mad', 'cow', 'disease', 'can', 'be', 'transmitted', 'to', 'sheep', '.'], ['Germany', \"'s\", 'representative', 'to', 'the', 'European', 'Union', \"'s\", 'veterinary', 'committee', 'Werner', 'Zwingmann', 'said', 'on', 'Wednesday', 'consumers', 'should', 'buy', 'sheepmeat', 'from', 'countries', 'other', 'than', 'Britain', 'until', 'the', 'scientific', 'advice', 'was', 'clearer', '.'], ['\"', 'We', 'do', \"n't\", 'support', 'any', 'such', 'recommendation', 'because', 'we', 'do', \"n't\", 'see', 'any', 'grounds', 'for', 'it', ',', '\"', 'the', 'Commission', \"'s\", 'chief', 'spokesman', 'Nikolaus', 'van', 'der', 'Pas', 'told', 'a', 'news', 'briefing', '.'], ['Fischler', 'proposed', 'EU-wide', 'measures', 'after', 'reports', 'from', 'Britain', 'and', 'France', 'that', 'under', 'laboratory', 'conditions', 'sheep', 'could', 'contract', 'Bovine', 'Spongiform', 'Encephalopathy', '(', 'BSE', ')', '--', 'mad', 'cow', 'disease', '.']]\n"
     ]
    }
   ],
   "source": [
    "low_score_threshold = 0.7\n",
    "low_score_sentences = [sentence for sentence, score in zip(dataset[\"train\"][\"tokens\"], dataset[\"train\"][\"scores\"]) if score < low_score_threshold]\n",
    "\n",
    "print(f\"Number of low-score sentences: {len(low_score_sentences)}\")\n",
    "print(\"Examples of low-score sentences:\", low_score_sentences[:5])\n"
   ]
  },
  {
   "cell_type": "code",
   "execution_count": 10,
   "metadata": {},
   "outputs": [
    {
     "name": "stderr",
     "output_type": "stream",
     "text": [
      "huggingface/tokenizers: The current process just got forked, after parallelism has already been used. Disabling parallelism to avoid deadlocks...\n",
      "To disable this warning, you can either:\n",
      "\t- Avoid using `tokenizers` before the fork if possible\n",
      "\t- Explicitly set the environment variable TOKENIZERS_PARALLELISM=(true | false)\n"
     ]
    },
    {
     "name": "stdout",
     "output_type": "stream",
     "text": [
      "Requirement already satisfied: datasets in /home/rodrigo/envs/env/lib/python3.10/site-packages (3.5.0)\n",
      "Requirement already satisfied: transformers in /home/rodrigo/envs/env/lib/python3.10/site-packages (4.50.3)\n",
      "Requirement already satisfied: tqdm in /home/rodrigo/envs/env/lib/python3.10/site-packages (4.67.1)\n",
      "Requirement already satisfied: filelock in /home/rodrigo/envs/env/lib/python3.10/site-packages (from datasets) (3.17.0)\n",
      "Requirement already satisfied: numpy>=1.17 in /home/rodrigo/envs/env/lib/python3.10/site-packages (from datasets) (1.26.2)\n",
      "Requirement already satisfied: pyarrow>=15.0.0 in /home/rodrigo/envs/env/lib/python3.10/site-packages (from datasets) (19.0.1)\n",
      "Requirement already satisfied: dill<0.3.9,>=0.3.0 in /home/rodrigo/envs/env/lib/python3.10/site-packages (from datasets) (0.3.8)\n",
      "Requirement already satisfied: pandas in /home/rodrigo/envs/env/lib/python3.10/site-packages (from datasets) (2.1.3)\n",
      "Requirement already satisfied: requests>=2.32.2 in /home/rodrigo/envs/env/lib/python3.10/site-packages (from datasets) (2.32.3)\n",
      "Requirement already satisfied: xxhash in /home/rodrigo/envs/env/lib/python3.10/site-packages (from datasets) (3.5.0)\n",
      "Requirement already satisfied: multiprocess<0.70.17 in /home/rodrigo/envs/env/lib/python3.10/site-packages (from datasets) (0.70.16)\n",
      "Requirement already satisfied: fsspec<=2024.12.0,>=2023.1.0 in /home/rodrigo/envs/env/lib/python3.10/site-packages (from fsspec[http]<=2024.12.0,>=2023.1.0->datasets) (2024.12.0)\n",
      "Requirement already satisfied: aiohttp in /home/rodrigo/envs/env/lib/python3.10/site-packages (from datasets) (3.11.16)\n",
      "Requirement already satisfied: huggingface-hub>=0.24.0 in /home/rodrigo/envs/env/lib/python3.10/site-packages (from datasets) (0.30.1)\n",
      "Requirement already satisfied: packaging in /home/rodrigo/envs/env/lib/python3.10/site-packages (from datasets) (24.2)\n",
      "Requirement already satisfied: pyyaml>=5.1 in /home/rodrigo/envs/env/lib/python3.10/site-packages (from datasets) (6.0.2)\n",
      "Requirement already satisfied: regex!=2019.12.17 in /home/rodrigo/envs/env/lib/python3.10/site-packages (from transformers) (2024.11.6)\n",
      "Requirement already satisfied: tokenizers<0.22,>=0.21 in /home/rodrigo/envs/env/lib/python3.10/site-packages (from transformers) (0.21.1)\n",
      "Requirement already satisfied: safetensors>=0.4.3 in /home/rodrigo/envs/env/lib/python3.10/site-packages (from transformers) (0.5.3)\n",
      "Requirement already satisfied: aiohappyeyeballs>=2.3.0 in /home/rodrigo/envs/env/lib/python3.10/site-packages (from aiohttp->datasets) (2.6.1)\n",
      "Requirement already satisfied: aiosignal>=1.1.2 in /home/rodrigo/envs/env/lib/python3.10/site-packages (from aiohttp->datasets) (1.3.2)\n",
      "Requirement already satisfied: async-timeout<6.0,>=4.0 in /home/rodrigo/envs/env/lib/python3.10/site-packages (from aiohttp->datasets) (5.0.1)\n",
      "Requirement already satisfied: attrs>=17.3.0 in /home/rodrigo/envs/env/lib/python3.10/site-packages (from aiohttp->datasets) (25.3.0)\n",
      "Requirement already satisfied: frozenlist>=1.1.1 in /home/rodrigo/envs/env/lib/python3.10/site-packages (from aiohttp->datasets) (1.5.0)\n",
      "Requirement already satisfied: multidict<7.0,>=4.5 in /home/rodrigo/envs/env/lib/python3.10/site-packages (from aiohttp->datasets) (6.2.0)\n",
      "Requirement already satisfied: propcache>=0.2.0 in /home/rodrigo/envs/env/lib/python3.10/site-packages (from aiohttp->datasets) (0.3.1)\n",
      "Requirement already satisfied: yarl<2.0,>=1.17.0 in /home/rodrigo/envs/env/lib/python3.10/site-packages (from aiohttp->datasets) (1.18.3)\n",
      "Requirement already satisfied: typing-extensions>=3.7.4.3 in /home/rodrigo/envs/env/lib/python3.10/site-packages (from huggingface-hub>=0.24.0->datasets) (4.12.2)\n",
      "Requirement already satisfied: charset-normalizer<4,>=2 in /home/rodrigo/envs/env/lib/python3.10/site-packages (from requests>=2.32.2->datasets) (3.4.1)\n",
      "Requirement already satisfied: idna<4,>=2.5 in /home/rodrigo/envs/env/lib/python3.10/site-packages (from requests>=2.32.2->datasets) (3.10)\n",
      "Requirement already satisfied: urllib3<3,>=1.21.1 in /home/rodrigo/envs/env/lib/python3.10/site-packages (from requests>=2.32.2->datasets) (2.3.0)\n",
      "Requirement already satisfied: certifi>=2017.4.17 in /home/rodrigo/envs/env/lib/python3.10/site-packages (from requests>=2.32.2->datasets) (2024.12.14)\n",
      "Requirement already satisfied: python-dateutil>=2.8.2 in /home/rodrigo/envs/env/lib/python3.10/site-packages (from pandas->datasets) (2.9.0.post0)\n",
      "Requirement already satisfied: pytz>=2020.1 in /home/rodrigo/envs/env/lib/python3.10/site-packages (from pandas->datasets) (2024.2)\n",
      "Requirement already satisfied: tzdata>=2022.1 in /home/rodrigo/envs/env/lib/python3.10/site-packages (from pandas->datasets) (2025.1)\n",
      "Requirement already satisfied: six>=1.5 in /home/rodrigo/envs/env/lib/python3.10/site-packages (from python-dateutil>=2.8.2->pandas->datasets) (1.17.0)\n"
     ]
    }
   ],
   "source": [
    "!pip install datasets transformers tqdm"
   ]
  },
  {
   "cell_type": "code",
   "execution_count": 14,
   "metadata": {},
   "outputs": [
    {
     "name": "stdout",
     "output_type": "stream",
     "text": [
      "Loading dataset from disk...\n"
     ]
    },
    {
     "name": "stderr",
     "output_type": "stream",
     "text": [
      "Device set to use cpu\n"
     ]
    },
    {
     "name": "stdout",
     "output_type": "stream",
     "text": [
      "Extracting sentences...\n",
      "Analyzing train set...\n"
     ]
    },
    {
     "name": "stderr",
     "output_type": "stream",
     "text": [
      "Analyzing Sentiments with Cardiff NLP: 100%|██████████| 14041/14041 [13:02<00:00, 17.93it/s] \n"
     ]
    },
    {
     "name": "stdout",
     "output_type": "stream",
     "text": [
      "Analyzing validation set...\n"
     ]
    },
    {
     "name": "stderr",
     "output_type": "stream",
     "text": [
      "Analyzing Sentiments with Cardiff NLP: 100%|██████████| 3250/3250 [02:21<00:00, 22.98it/s]"
     ]
    },
    {
     "name": "stdout",
     "output_type": "stream",
     "text": [
      "Analyzing test set...\n"
     ]
    },
    {
     "name": "stderr",
     "output_type": "stream",
     "text": [
      "\n"
     ]
    }
   ],
   "source": [
    "import os\n",
    "from datasets import load_from_disk\n",
    "from transformers import pipeline\n",
    "from tqdm import tqdm\n",
    "\n",
    "# Define dataset path\n",
    "dataset_path = \"../data/conll2003_dataset\"\n",
    "\n",
    "# Load the dataset from disk\n",
    "if os.path.exists(dataset_path):\n",
    "    print(\"Loading dataset from disk...\")\n",
    "    dataset = load_from_disk(dataset_path)\n",
    "else:\n",
    "    raise FileNotFoundError(f\"Dataset not found at {dataset_path}. Please process and save it first.\")\n",
    "\n",
    "# Load the sentiment-analysis pipeline for cardiffnlp/twitter-roberta-base-sentiment\n",
    "sentiment_analyzer_cardiff = pipeline(\"sentiment-analysis\", model=\"cardiffnlp/twitter-roberta-base-sentiment\")\n",
    "\n",
    "# Define a function to analyze sentiments with Cardiff NLP model\n",
    "# Define a function to analyze sentiments with Cardiff NLP model\n",
    "def analyze_with_cardiff(sentences):\n",
    "    sentiments = []\n",
    "    for sentence in tqdm(sentences, desc=\"Analyzing Sentiments with Cardiff NLP\"):\n",
    "        result = sentiment_analyzer_cardiff(sentence)[0]  # Analyze one sentence\n",
    "        label = result[\"label\"]\n",
    "        score = result[\"score\"]\n",
    "        \n",
    "        # Map labels to integers: Negative = 0, Neutral = 1, Positive = 2\n",
    "        if label == \"LABEL_0\":\n",
    "            mapped_label = \"NEGATIVE\"\n",
    "        elif label == \"LABEL_1\":\n",
    "            mapped_label = \"NEUTRAL\"\n",
    "        elif label == \"LABEL_2\":\n",
    "            mapped_label = \"POSITIVE\"\n",
    "        else:\n",
    "            # Fallback case (unexpected label)\n",
    "            print(f\"Unexpected label '{label}' encountered. Defaulting to NEUTRAL.\")\n",
    "            mapped_label = 1\n",
    "        \n",
    "        sentiments.append({\"label\": mapped_label, \"score\": score})\n",
    "    return sentiments\n",
    "\n",
    "\n",
    "# Analyze sentiments for train, validation, and test splits\n",
    "print(\"Extracting sentences...\")\n",
    "train_sentences = [\" \".join(tokens) for tokens in dataset[\"train\"][\"tokens\"]]\n",
    "validation_sentences = [\" \".join(tokens) for tokens in dataset[\"validation\"][\"tokens\"]]\n",
    "test_sentences = [\" \".join(tokens) for tokens in dataset[\"test\"][\"tokens\"]]\n",
    "\n",
    "print(\"Analyzing train set...\")\n",
    "train_sentiments_cardiff = analyze_with_cardiff(train_sentences)\n",
    "print(\"Analyzing validation set...\")\n",
    "validation_sentiments_cardiff = analyze_with_cardiff(validation_sentences)\n",
    "print(\"Analyzing test set...\")\n",
    "test_sentiments_cardiff = analyze_with_cardiff\n"
   ]
  },
  {
   "cell_type": "code",
   "execution_count": 15,
   "metadata": {},
   "outputs": [
    {
     "name": "stdout",
     "output_type": "stream",
     "text": [
      "Comparing train set...\n",
      "Comparing validation set...\n",
      "Comparing test set...\n"
     ]
    },
    {
     "ename": "TypeError",
     "evalue": "'function' object is not iterable",
     "output_type": "error",
     "traceback": [
      "\u001b[0;31m---------------------------------------------------------------------------\u001b[0m",
      "\u001b[0;31mTypeError\u001b[0m                                 Traceback (most recent call last)",
      "Cell \u001b[0;32mIn[15], line 22\u001b[0m\n\u001b[1;32m     14\u001b[0m validation_accuracy \u001b[38;5;241m=\u001b[39m compare_labels(\n\u001b[1;32m     15\u001b[0m     dataset[\u001b[38;5;124m\"\u001b[39m\u001b[38;5;124mvalidation\u001b[39m\u001b[38;5;124m\"\u001b[39m][\u001b[38;5;124m\"\u001b[39m\u001b[38;5;124msentiments\u001b[39m\u001b[38;5;124m\"\u001b[39m],\n\u001b[1;32m     16\u001b[0m     [result[\u001b[38;5;124m\"\u001b[39m\u001b[38;5;124mlabel\u001b[39m\u001b[38;5;124m\"\u001b[39m] \u001b[38;5;28;01mfor\u001b[39;00m result \u001b[38;5;129;01min\u001b[39;00m validation_sentiments_cardiff]\n\u001b[1;32m     17\u001b[0m )\n\u001b[1;32m     19\u001b[0m \u001b[38;5;28mprint\u001b[39m(\u001b[38;5;124m\"\u001b[39m\u001b[38;5;124mComparing test set...\u001b[39m\u001b[38;5;124m\"\u001b[39m)\n\u001b[1;32m     20\u001b[0m test_accuracy \u001b[38;5;241m=\u001b[39m compare_labels(\n\u001b[1;32m     21\u001b[0m     dataset[\u001b[38;5;124m\"\u001b[39m\u001b[38;5;124mtest\u001b[39m\u001b[38;5;124m\"\u001b[39m][\u001b[38;5;124m\"\u001b[39m\u001b[38;5;124msentiments\u001b[39m\u001b[38;5;124m\"\u001b[39m],\n\u001b[0;32m---> 22\u001b[0m     [result[\u001b[38;5;124m\"\u001b[39m\u001b[38;5;124mlabel\u001b[39m\u001b[38;5;124m\"\u001b[39m] \u001b[38;5;28;01mfor\u001b[39;00m result \u001b[38;5;129;01min\u001b[39;00m test_sentiments_cardiff]\n\u001b[1;32m     23\u001b[0m )\n\u001b[1;32m     25\u001b[0m \u001b[38;5;66;03m# Print results\u001b[39;00m\n\u001b[1;32m     26\u001b[0m \u001b[38;5;28mprint\u001b[39m(\u001b[38;5;124mf\u001b[39m\u001b[38;5;124m\"\u001b[39m\u001b[38;5;124mTrain Accuracy: \u001b[39m\u001b[38;5;132;01m{\u001b[39;00mtrain_accuracy\u001b[38;5;132;01m:\u001b[39;00m\u001b[38;5;124m.2f\u001b[39m\u001b[38;5;132;01m}\u001b[39;00m\u001b[38;5;124m%\u001b[39m\u001b[38;5;124m\"\u001b[39m)\n",
      "\u001b[0;31mTypeError\u001b[0m: 'function' object is not iterable"
     ]
    }
   ],
   "source": [
    "def compare_labels(original_labels, cardiff_labels):\n",
    "    matches = sum(1 for orig, cardiff in zip(original_labels, cardiff_labels) if orig == cardiff)\n",
    "    total = len(original_labels)\n",
    "    accuracy = matches / total * 100\n",
    "    return accuracy\n",
    "\n",
    "print(\"Comparing train set...\")\n",
    "train_accuracy = compare_labels(\n",
    "    dataset[\"train\"][\"sentiments\"],\n",
    "    [result[\"label\"] for result in train_sentiments_cardiff]\n",
    ")\n",
    "\n",
    "print(\"Comparing validation set...\")\n",
    "validation_accuracy = compare_labels(\n",
    "    dataset[\"validation\"][\"sentiments\"],\n",
    "    [result[\"label\"] for result in validation_sentiments_cardiff]\n",
    ")\n",
    "\n",
    "print(\"Comparing test set...\")\n",
    "test_accuracy = compare_labels(\n",
    "    dataset[\"test\"][\"sentiments\"],\n",
    "    [result[\"label\"] for result in test_sentiments_cardiff]\n",
    ")\n",
    "\n",
    "# Print results\n",
    "print(f\"Train Accuracy: {train_accuracy:.2f}%\")\n",
    "print(f\"Validation Accuracy: {validation_accuracy:.2f}%\")\n",
    "print(f\"Test Accuracy: {test_accuracy:.2f}%\")"
   ]
  },
  {
   "cell_type": "code",
   "execution_count": null,
   "metadata": {},
   "outputs": [],
   "source": []
  }
 ],
 "metadata": {
  "kernelspec": {
   "display_name": "env320",
   "language": "python",
   "name": "python3"
  },
  "language_info": {
   "codemirror_mode": {
    "name": "ipython",
    "version": 3
   },
   "file_extension": ".py",
   "mimetype": "text/x-python",
   "name": "python",
   "nbconvert_exporter": "python",
   "pygments_lexer": "ipython3",
   "version": "3.8.10"
  }
 },
 "nbformat": 4,
 "nbformat_minor": 2
}
